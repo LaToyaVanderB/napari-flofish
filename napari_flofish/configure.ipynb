{
 "cells": [
  {
   "cell_type": "markdown",
   "id": "b23a943e-74d6-42a7-b4d0-a07e5e038189",
   "metadata": {},
   "source": [
    "### Download test data"
   ]
  },
  {
   "cell_type": "code",
   "execution_count": 2,
   "id": "fb013312-275b-4e6d-8e3b-12c262673623",
   "metadata": {},
   "outputs": [],
   "source": [
    "from napari_flofish import get_smRNAfish_Ecoli_rpoD_rnlAB_hipBA\n",
    "from pathlib import Path\n"
   ]
  },
  {
   "cell_type": "code",
   "execution_count": null,
   "id": "a03ecf7f",
   "metadata": {},
   "outputs": [],
   "source": [
    "get_smRNAfish_Ecoli_rpoD_rnlAB_hipBA(Path(\"data/exp16/expected\"))"
   ]
  }
 ],
 "metadata": {
  "kernelspec": {
   "display_name": "omnipose",
   "language": "python",
   "name": "python3"
  },
  "language_info": {
   "codemirror_mode": {
    "name": "ipython",
    "version": 3
   },
   "file_extension": ".py",
   "mimetype": "text/x-python",
   "name": "python",
   "nbconvert_exporter": "python",
   "pygments_lexer": "ipython3",
   "version": "3.10.16"
  }
 },
 "nbformat": 4,
 "nbformat_minor": 5
}
